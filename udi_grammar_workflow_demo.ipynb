{
 "cells": [
  {
   "cell_type": "raw",
   "metadata": {},
   "source": []
  },
  {
   "cell_type": "markdown",
   "metadata": {},
   "source": [
    "# UDI Grammar Workflow Demo\n",
    "\n",
    "This notebook demonstrates a complete workflow for visualizing DICOM metadata using the UDI grammar system.\n",
    "\n",
    "**Workflow steps:**\n",
    "1. Extract DICOM metadata from a directory of .dcm files and save selected attributes to a CSV file.\n",
    "2. Load the CSV in Python and generate a UDI grammar specification for a bar chart (with faceting by Modality).\n",
    "3. Render the UDI grammar spec to a PNG image and display it in the notebook.\n",
    "\n",
    "---"
   ]
  },
  {
   "cell_type": "markdown",
   "metadata": {},
   "source": []
  },
  {
   "cell_type": "markdown",
   "metadata": {},
   "source": [
    "## Step 1: Extract DICOM Metadata to CSV\n",
    " We use the `extract_usecase_columns` function from our DICOM metadata utility.\n",
    "This function scans a directory for DICOM (.dcm) files, extracts a set of interesting metadata fields (such as PatientAge, Modality, Manufacturer, etc.), and writes them to a CSV file.\n",
    "\n",
    "This CSV will be used as the data source for visualization in later steps."
   ]
  },
  {
   "cell_type": "code",
   "execution_count": 2,
   "metadata": {
    "ExecuteTime": {
     "end_time": "2025-07-24T03:33:26.927937Z",
     "start_time": "2025-07-24T03:33:26.900436Z"
    }
   },
   "outputs": [
    {
     "name": "stdout",
     "output_type": "stream",
     "text": [
      "Wrote selected metadata for 21 DICOM files to usecase_col1_011274.csv\n",
      "CSV written to usecase_col1_011274.csv\n"
     ]
    }
   ],
   "source": [
    "from read_dicom_metadata import extract_usecase_columns\n",
    "# Please use the patient ID 419639-011274\n",
    "dicom_dir = '/Users/chunwei/research/midrc-demo/downloads/419639-011274'\n",
    "csv_path = 'usecase_col1_011274.csv'\n",
    "extract_usecase_columns(dicom_dir, csv_path)\n",
    "print(f'CSV written to {csv_path}')"
   ]
  },
  {
   "cell_type": "markdown",
   "metadata": {},
   "source": [
    "## Step 1.1 upload the CSV to S3 for later use"
   ]
  },
  {
   "cell_type": "code",
   "execution_count": 3,
   "metadata": {
    "ExecuteTime": {
     "end_time": "2025-07-24T03:33:31.865212Z",
     "start_time": "2025-07-24T03:33:31.297552Z"
    }
   },
   "outputs": [
    {
     "name": "stdout",
     "output_type": "stream",
     "text": [
      "upload: ./usecase_col1_011274.csv to s3://neural-science/usecase_col1_011274.csv\n",
      "Successfully uploaded usecase_col1_011274.csv to s3://neural-science/usecase_col1_011274.csv\n"
     ]
    }
   ],
   "source": [
    "import os\n",
    "\n",
    "local_csv = csv_path\n",
    "bucket = \"neural-science\"\n",
    "\n",
    "# Construct the AWS CLI command\n",
    "cmd = f\"aws s3 cp {local_csv} s3://{bucket}/{csv_path}\"\n",
    "\n",
    "# Run the command and print output\n",
    "result = os.system(cmd)\n",
    "if result == 0:\n",
    "    print(f\"Successfully uploaded {local_csv} to s3://{bucket}/{csv_path}\")\n",
    "else:\n",
    "    print(\"Upload failed. Make sure AWS CLI is installed and configured.\")"
   ]
  },
  {
   "cell_type": "markdown",
   "metadata": {},
   "source": [
    "## Step 2: Generate a UDI Grammar Specification\n",
    "\n",
    "We now load the CSV and use the `udi-grammar-py` library to build a UDI grammar specification for a bar chart.\n",
    "\n",
    "- **X-axis:** PatientAge (nominal)\n",
    "- **Y-axis:** Count of records\n",
    "- **Color:** PatientSex\n",
    "- **Facet (column):** Modality\n",
    "\n",
    "We patch the rollup part of the spec to ensure it is valid for the UDI grammar web app, and add the column encoding manually for faceting.\n",
    "\n",
    "The resulting spec can be used in the UDI web editor or for automated rendering."
   ]
  },
  {
   "cell_type": "code",
   "metadata": {
    "ExecuteTime": {
     "end_time": "2025-07-24T03:59:05.878230Z",
     "start_time": "2025-07-24T03:59:05.872300Z"
    }
   },
   "source": [
    "from udi_grammar_py.spec import Chart\n",
    "from udi_grammar_py.helpers import Op\n",
    "import json\n",
    "\n",
    "def make_udi_spec(csv_path):\n",
    "    chart = (\n",
    "        Chart()\n",
    "        .source('dicom', csv_path)\n",
    "        .groupby(['PatientAge', 'Modality', 'PatientSex'])\n",
    "        .rollup('count', count=Op.count())\n",
    "        .mark('bar')\n",
    "        .x(field='PatientAge', type='nominal')\n",
    "        .y(field='count', type='quantitative')\n",
    "        .color(field='PatientSex', type='nominal')\n",
    "    )\n",
    "    spec = chart.to_dict()\n",
    "    for t in spec['transformation']:\n",
    "        if 'rollup' in t and isinstance(t['rollup'], str):\n",
    "            t['rollup'] = {'count': {'op': 'count'}}\n",
    "    # Add column encoding manually for faceting by Modality\n",
    "    spec['representation']['mapping'].append({\n",
    "        'encoding': 'column',\n",
    "        'field': 'Modality',\n",
    "        'type': 'nominal'\n",
    "    })\n",
    "    return spec\n",
    "\n",
    "def make_udi_spec_visitdate(csv_path):\n",
    "    from udi_grammar_py.spec import Chart\n",
    "    from udi_grammar_py.helpers import Op\n",
    "\n",
    "    chart = (\n",
    "        Chart()\n",
    "        .source('dicom', csv_path)\n",
    "        .groupby(['StudyDate'])\n",
    "        .rollup('count', count=Op.count())\n",
    "        .mark('bar')\n",
    "        .x(field='StudyDate', type='nominal')\n",
    "        .y(field='count', type='quantitative')\n",
    "    )\n",
    "    spec = chart.to_dict()\n",
    "    for t in spec['transformation']:\n",
    "        if 'rollup' in t and isinstance(t['rollup'], str):\n",
    "            t['rollup'] = {'count': {'op': 'count'}}\n",
    "    return spec\n",
    "\n",
    "\n",
    "csv_path_s3 = f\"https://{bucket}.s3.us-east-1.amazonaws.com/{csv_path}\"\n",
    "udi_spec = make_udi_spec_visitdate(csv_path_s3)\n",
    "print(json.dumps(udi_spec, indent=2))"
   ],
   "outputs": [
    {
     "name": "stdout",
     "output_type": "stream",
     "text": [
      "{\n",
      "  \"source\": {\n",
      "    \"name\": \"dicom\",\n",
      "    \"source\": \"https://neural-science.s3.us-east-1.amazonaws.com/usecase_col1_011274.csv\"\n",
      "  },\n",
      "  \"transformation\": [\n",
      "    {\n",
      "      \"groupby\": [\n",
      "        \"StudyDate\"\n",
      "      ]\n",
      "    },\n",
      "    {\n",
      "      \"rollup\": {\n",
      "        \"count\": {\n",
      "          \"op\": \"count\"\n",
      "        }\n",
      "      }\n",
      "    }\n",
      "  ],\n",
      "  \"representation\": {\n",
      "    \"mark\": \"bar\",\n",
      "    \"mapping\": [\n",
      "      {\n",
      "        \"encoding\": \"x\",\n",
      "        \"field\": \"StudyDate\",\n",
      "        \"type\": \"nominal\"\n",
      "      },\n",
      "      {\n",
      "        \"encoding\": \"y\",\n",
      "        \"field\": \"count\",\n",
      "        \"type\": \"quantitative\"\n",
      "      }\n",
      "    ]\n",
      "  }\n",
      "}\n"
     ]
    }
   ],
   "execution_count": 14
  },
  {
   "cell_type": "markdown",
   "metadata": {},
   "source": [
    "## Step 3: Render the UDI Spec to an Image\n",
    "\n",
    "We use the `udi_to_png` function to render the UDI grammar spec to a PNG image.\n",
    "This function launches a headless browser, loads the UDI web editor with the spec, and downloads the resulting chart as a PNG.\n",
    "\n",
    "We then display the image directly in the notebook."
   ]
  },
  {
   "cell_type": "code",
   "metadata": {
    "ExecuteTime": {
     "end_time": "2025-07-24T03:59:12.369116Z",
     "start_time": "2025-07-24T03:59:10.696349Z"
    }
   },
   "source": [
    "import asyncio\n",
    "from udi_grammar_wrapper import udi_to_png\n",
    "from IPython.display import Image, display\n",
    "\n",
    "output_img = 'udi_chart_studydate.png'\n",
    "# Render the image (Jupyter supports top-level await)\n",
    "await udi_to_png(udi_spec, output_img)\n",
    "display(Image(output_img))"
   ],
   "outputs": [
    {
     "data": {
      "image/png": "[encoded data removed]",
      "text/plain": [
       "<IPython.core.display.Image object>"
      ]
     },
     "metadata": {},
     "output_type": "display_data"
    }
   ],
   "execution_count": 15
  },
  {
   "cell_type": "markdown",
   "metadata": {},
   "source": [
    "---\n",
    "\n",
    "## An Interactive Option: UDI Web Interface in Notebook\n",
    "\n",
    "You can interactively explore and edit UDI grammar specifications using the official UDI web editor, embedded below.\n",
    "\n",
    "**How to use:**\n",
    "- Copy the generated UDI spec from Python (see above) and paste it into the editor's text box.\n",
    "- The visualization will update automatically.\n",
    "- You can also edit the spec directly in the web interface.\n",
    "\n",
    "---"
   ]
  },
  {
   "cell_type": "code",
   "execution_count": 20,
   "metadata": {
    "ExecuteTime": {
     "end_time": "2025-07-21T19:13:59.455105Z",
     "start_time": "2025-07-21T19:13:59.452655Z"
    }
   },
   "outputs": [
    {
     "data": {
      "text/html": [
       "<iframe src='https://hms-dbmi.github.io/udi-grammar/#/Editor' width='1200' height='1000'></iframe>"
      ],
      "text/plain": [
       "<IPython.core.display.HTML object>"
      ]
     },
     "execution_count": 20,
     "metadata": {},
     "output_type": "execute_result"
    }
   ],
   "source": [
    "from IPython.display import HTML\n",
    "HTML(\"<iframe src='https://hms-dbmi.github.io/udi-grammar/#/Editor' width='1200' height='1000'></iframe>\")"
   ]
  }
 ],
 "metadata": {
  "kernelspec": {
   "display_name": "Python 3 (ipykernel)",
   "language": "python",
   "name": "python3"
  },
  "language_info": {
   "name": "python"
  }
 },
 "nbformat": 4,
 "nbformat_minor": 2
}
