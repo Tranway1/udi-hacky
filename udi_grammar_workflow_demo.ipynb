{
 "cells": [
  {
   "cell_type": "raw",
   "metadata": {},
   "source": []
  },
  {
   "cell_type": "markdown",
   "metadata": {},
   "source": [
    "# UDI Grammar Workflow Demo\n",
    "\n",
    "This notebook demonstrates a complete workflow for visualizing DICOM metadata using the UDI grammar system.\n",
    "\n",
    "**Workflow steps:**\n",
    "1. Extract DICOM metadata from a directory of .dcm files and save selected attributes to a CSV file.\n",
    "2. Load the CSV in Python and generate a UDI grammar specification for a bar chart (with faceting by Modality).\n",
    "3. Render the UDI grammar spec to a PNG image and display it in the notebook.\n",
    "\n",
    "---"
   ]
  },
  {
   "cell_type": "markdown",
   "metadata": {},
   "source": []
  },
  {
   "cell_type": "markdown",
   "metadata": {},
   "source": [
    "## Step 1: Extract DICOM Metadata to CSV\n",
    " We use the `extract_usecase_columns` function from our DICOM metadata utility.\n",
    "This function scans a directory for DICOM (.dcm) files, extracts a set of interesting metadata fields (such as PatientAge, Modality, Manufacturer, etc.), and writes them to a CSV file.\n",
    "\n",
    "This CSV will be used as the data source for visualization in later steps."
   ]
  },
  {
   "cell_type": "code",
   "metadata": {
    "ExecuteTime": {
     "end_time": "2025-07-20T21:17:04.058226Z",
     "start_time": "2025-07-20T21:17:04.027681Z"
    }
   },
   "source": [
    "from read_dicom_metadata import extract_usecase_columns\n",
    "\n",
    "dicom_dir = '/Users/chunwei/research/midrc-demo/downloads'\n",
    "csv_path = 'usecase_col.csv'\n",
    "extract_usecase_columns(dicom_dir, csv_path)\n",
    "print(f'CSV written to {csv_path}')"
   ],
   "outputs": [
    {
     "name": "stdout",
     "output_type": "stream",
     "text": [
      "Wrote selected metadata for 33 DICOM files to usecase_col.csv\n",
      "CSV written to usecase_col.csv\n"
     ]
    }
   ],
   "execution_count": 9
  },
  {
   "cell_type": "markdown",
   "metadata": {},
   "source": [
    "## Step 2: Generate a UDI Grammar Specification\n",
    "\n",
    "We now load the CSV and use the `udi-grammar-py` library to build a UDI grammar specification for a bar chart.\n",
    "\n",
    "- **X-axis:** PatientAge (nominal)\n",
    "- **Y-axis:** Count of records\n",
    "- **Color:** PatientSex\n",
    "- **Facet (column):** Modality\n",
    "\n",
    "We patch the rollup part of the spec to ensure it is valid for the UDI grammar web app, and add the column encoding manually for faceting.\n",
    "\n",
    "The resulting spec can be used in the UDI web editor or for automated rendering."
   ]
  },
  {
   "cell_type": "code",
   "metadata": {
    "ExecuteTime": {
     "end_time": "2025-07-20T21:17:05.503994Z",
     "start_time": "2025-07-20T21:17:05.496813Z"
    }
   },
   "source": [
    "from udi_grammar_py.spec import Chart\n",
    "from udi_grammar_py.helpers import Op\n",
    "import json\n",
    "\n",
    "def make_udi_spec(csv_path):\n",
    "    chart = (\n",
    "        Chart()\n",
    "        .source('dicom', csv_path)\n",
    "        .groupby(['PatientAge', 'Modality', 'PatientSex'])\n",
    "        .rollup('count', count=Op.count())\n",
    "        .mark('bar')\n",
    "        .x(field='PatientAge', type='nominal')\n",
    "        .y(field='count', type='quantitative')\n",
    "        .color(field='PatientSex', type='nominal')\n",
    "    )\n",
    "    spec = chart.to_dict()\n",
    "    for t in spec['transformation']:\n",
    "        if 'rollup' in t and isinstance(t['rollup'], str):\n",
    "            t['rollup'] = {'count': {'op': 'count'}}\n",
    "    # Add column encoding manually for faceting by Modality\n",
    "    spec['representation']['mapping'].append({\n",
    "        'encoding': 'column',\n",
    "        'field': 'Modality',\n",
    "        'type': 'nominal'\n",
    "    })\n",
    "    return spec\n",
    "csv_path_s3 = \"https://neural-science.s3.us-east-1.amazonaws.com/usecase_col.csv\"\n",
    "udi_spec = make_udi_spec(csv_path_s3)\n",
    "print(json.dumps(udi_spec, indent=2))"
   ],
   "outputs": [
    {
     "name": "stdout",
     "output_type": "stream",
     "text": [
      "{\n",
      "  \"source\": {\n",
      "    \"name\": \"dicom\",\n",
      "    \"source\": \"https://neural-science.s3.us-east-1.amazonaws.com/usecase_col.csv\"\n",
      "  },\n",
      "  \"transformation\": [\n",
      "    {\n",
      "      \"groupby\": [\n",
      "        \"PatientAge\",\n",
      "        \"Modality\",\n",
      "        \"PatientSex\"\n",
      "      ]\n",
      "    },\n",
      "    {\n",
      "      \"rollup\": {\n",
      "        \"count\": {\n",
      "          \"op\": \"count\"\n",
      "        }\n",
      "      }\n",
      "    }\n",
      "  ],\n",
      "  \"representation\": {\n",
      "    \"mark\": \"bar\",\n",
      "    \"mapping\": [\n",
      "      {\n",
      "        \"encoding\": \"x\",\n",
      "        \"field\": \"PatientAge\",\n",
      "        \"type\": \"nominal\"\n",
      "      },\n",
      "      {\n",
      "        \"encoding\": \"y\",\n",
      "        \"field\": \"count\",\n",
      "        \"type\": \"quantitative\"\n",
      "      },\n",
      "      {\n",
      "        \"encoding\": \"color\",\n",
      "        \"field\": \"PatientSex\",\n",
      "        \"type\": \"nominal\"\n",
      "      },\n",
      "      {\n",
      "        \"encoding\": \"column\",\n",
      "        \"field\": \"Modality\",\n",
      "        \"type\": \"nominal\"\n",
      "      }\n",
      "    ]\n",
      "  }\n",
      "}\n"
     ]
    }
   ],
   "execution_count": 10
  },
  {
   "cell_type": "markdown",
   "metadata": {},
   "source": [
    "## Step 3: Render the UDI Spec to an Image\n",
    "\n",
    "We use the `udi_to_png` function to render the UDI grammar spec to a PNG image.\n",
    "This function launches a headless browser, loads the UDI web editor with the spec, and downloads the resulting chart as a PNG.\n",
    "\n",
    "We then display the image directly in the notebook."
   ]
  },
  {
   "cell_type": "code",
   "metadata": {
    "ExecuteTime": {
     "end_time": "2025-07-20T21:17:09.019534Z",
     "start_time": "2025-07-20T21:17:07.125483Z"
    }
   },
   "source": [
    "import asyncio\n",
    "from udi_grammar_wrapper import udi_to_png\n",
    "from IPython.display import Image, display\n",
    "\n",
    "output_img = 'udi_chart.png'\n",
    "# Render the image (Jupyter supports top-level await)\n",
    "await udi_to_png(udi_spec, output_img)\n",
    "display(Image(output_img))"
   ],
   "outputs": [
    {
     "data": {
      "image/png": "[encoded data removed]",
      "text/plain": [
       "<IPython.core.display.Image object>"
      ]
     },
     "metadata": {},
     "output_type": "display_data"
    }
   ],
   "execution_count": 11
  },
  {
   "metadata": {},
   "cell_type": "markdown",
   "source": [
    "---\n",
    "\n",
    "## An Interactive Option: UDI Web Interface in Notebook\n",
    "\n",
    "You can interactively explore and edit UDI grammar specifications using the official UDI web editor, embedded below.\n",
    "\n",
    "**How to use:**\n",
    "- Copy the generated UDI spec from Python (see above) and paste it into the editor's text box.\n",
    "- The visualization will update automatically.\n",
    "- You can also edit the spec directly in the web interface.\n",
    "\n",
    "---"
   ]
  },
  {
   "metadata": {
    "ExecuteTime": {
     "end_time": "2025-07-20T21:17:10.891533Z",
     "start_time": "2025-07-20T21:17:10.887199Z"
    }
   },
   "cell_type": "code",
   "source": [
    "from IPython.display import HTML\n",
    "HTML(\"<iframe src='https://hms-dbmi.github.io/udi-grammar/#/Editor' width='1200' height='1000'></iframe>\")"
   ],
   "outputs": [
    {
     "data": {
      "text/plain": [
       "<IPython.core.display.HTML object>"
      ],
      "text/html": [
       "<iframe src='https://hms-dbmi.github.io/udi-grammar/#/Editor' width='1200' height='1000'></iframe>"
      ]
     },
     "execution_count": 12,
     "metadata": {},
     "output_type": "execute_result"
    }
   ],
   "execution_count": 12
  },
  {
   "metadata": {},
   "cell_type": "code",
   "outputs": [],
   "execution_count": null,
   "source": ""
  }
 ],
 "metadata": {
  "kernelspec": {
   "display_name": "Python 3 (ipykernel)",
   "language": "python",
   "name": "python3"
  },
  "language_info": {
   "name": "python"
  }
 },
 "nbformat": 4,
 "nbformat_minor": 2
}
